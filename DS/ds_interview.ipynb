{
 "cells": [
  {
   "cell_type": "markdown",
   "metadata": {},
   "source": [
    "# Data Science вопросы\n",
    "\n",
    "<img src='img/ds.png' width=500>\n",
    "\n",
    "Оглавление\n",
    "\n",
    "- [Полный цикл работы с данными от сбора до деплоя модели](#1)\n",
    "- [Отличия data cleaning от feature engineering](#2)\n",
    "- [Оценка качества данных. Метрики и подходы.](#3)\n",
    "- [Разница между точностью (accuracy), полнотой (recall) и F1-мерой](#4)\n",
    "- [Разница между дисперсией (variance) и смещением (bias) в контексте машинного обучения](#5)\n",
    "- [Центральная предельная теорема (ЦПТ) и ее применение в Data Science](#6)"
   ]
  },
  {
   "cell_type": "markdown",
   "metadata": {},
   "source": [
    "___\n",
    "1. <a id=1>Полный цикл работы с данными от сбора до деплоя модели</a>"
   ]
  },
  {
   "cell_type": "markdown",
   "metadata": {},
   "source": [
    "1. `Сбор данных`\n",
    "    - Определение источников данных\n",
    "    - Организация процесса получения данных\n",
    "2. `Предобработка данных`\n",
    "    - Очистка данных\n",
    "    - Приведение данных к единому формату\n",
    "    - Инжиниринг новых признаков\n",
    "3. `Анализ данных`\n",
    "    - Распределение\n",
    "    - Корреляция\n",
    "    - Выбросы\n",
    "    - Важность приззнаков\n",
    "4. `Разделение данных`\n",
    "    - Стратификация\n",
    "5. `Обучение модели`\n",
    "    - Выбор модели\n",
    "    - Подбор гиперпараметров\n",
    "    - Кросс-валидация\n",
    "6. `Оценка качества модели`\n",
    "    - Выбор метрик\n",
    "    - Интерпретация результата\n",
    "7. `Деплой модели`\n",
    "    - Сериализация модели\n",
    "    - Реализация API для инференса модели\n",
    "8. `Мониторинг и обновление`\n",
    "    - Обновление модели с учетом новых данных\n",
    "    - Оценка влияния модели на бизнес-метрики."
   ]
  },
  {
   "cell_type": "markdown",
   "metadata": {},
   "source": [
    "___\n",
    "2. <a id=2>Отличия data cleaning от feature engineering</a>"
   ]
  },
  {
   "cell_type": "markdown",
   "metadata": {},
   "source": [
    "\n",
    "|Аспект|Data Cleaning | Feature Engineering|\n",
    "|-|-|-|\n",
    "|Фокус процесса|\tУстранение ошибок и проблем в данных.|\tСоздание и преобразование признаков для улучшения модели.\n",
    "|Тип задач |\tУдаление пропусков, устранение выбросов, очистка форматов.|\tГенерация новых признаков, кодирование категорий, нормализация.\n",
    "|Роль в цикле ML\t|Этап подготовки данных перед анализом или обучением модели.|\tЭтап создания информативных признаков перед обучением.\n",
    "|Инструменты|\tpandas, numpy, библиотеки для работы с текстами.|scikit-learn, FeatureTools, statsmodels."
   ]
  },
  {
   "cell_type": "markdown",
   "metadata": {},
   "source": [
    "___\n",
    "3. <a id=3>Оценка качества данных. Метрики и подходы.</a>"
   ]
  },
  {
   "cell_type": "markdown",
   "metadata": {},
   "source": [
    "1. `Точность` \n",
    "    - Сравнение с источниками данных или контрольными наборами\n",
    "    - Проверка на наличие ошибок ввода\n",
    "2. `Полнота` \n",
    "    - Доля записей с пустыми или невалидными значениями\n",
    "3. `Актуальность` \n",
    "    - Проверка временных меток на предмет устаревших записей\n",
    "4. `Последовательность` \n",
    "    - Сравнение зависимых данных (проверка сумм)\n",
    "    - Отсутствие нелогичных значений\n",
    "5. `Уникальность`\n",
    "    - Поиск дубликатов\n",
    "    - Анализ частоты встречаемости данных"
   ]
  },
  {
   "cell_type": "markdown",
   "metadata": {},
   "source": [
    "___\n",
    "4. <a id=4>Разница между точностью (accuracy), полнотой (recall) и F1-мерой</a>"
   ]
  },
  {
   "cell_type": "markdown",
   "metadata": {},
   "source": [
    "1. Точность (`Accuracy`) - доля всех предсказаний, которая модель сделала правильно.   \n",
    "Используется, когда данные сбалансированы и все классы равнозначны\n",
    "\n",
    "$\\boxed{Accuracy = \\frac{TP+TN}{TP+TN+FP+FN}}$\n",
    "\n",
    "2. Полнота (`Recall`) - доля положительных примеров, которую модель правильно классифицировала.   \n",
    "Используется, когда  важно не пропускать положительные примеры.\n",
    "\n",
    "$\\boxed{Recall = \\frac{TP}{TP+FN}}$\n",
    "\n",
    "3.  `F1-мера` - гармоническое среднее между точностью (Precision) и полнотой (Recall).  \n",
    "Используется, когда важно найти баланс между полнотой и точностью, например, когда пропуск положительных случаев (низкая полнота) или ложные срабатывания (низкая точность) одинаково критичны.\n",
    "\n",
    "$\\boxed{F_1 = 2 \\cdot \\frac{Precision \\cdot Recall}{Precision+Recall}}$"
   ]
  },
  {
   "cell_type": "markdown",
   "metadata": {},
   "source": [
    "___\n",
    "5. <a id=5>Разница между дисперсией (variance) и смещением (bias) в контексте машинного обучения</a>"
   ]
  },
  {
   "cell_type": "markdown",
   "metadata": {},
   "source": [
    "1. `Смещение` (Bias) - ошибка, возникающая из-за чрезмерного упрощения модели, когда модель недостаточно сложна, чтобы понять скрытые зависимости в данных.\n",
    "Признаки высокого смещения:\n",
    "- Модель плохо обучается на тренировочных данных (низкая точность на тренировке).\n",
    "- Неспособность уловить сложные зависимости в данных (underfitting).\n",
    "- Предсказание всегда или выше, или ниже реального значени\n",
    "\n",
    "$\\boxed{Bias = E[f(x)] - y}$\n",
    "\n",
    "2. `Дисперсия` (Variance) - ошибка, возникающая из-за высокой чувствительности модели к изменениям в обучающем наборе данных\n",
    "\n",
    "Признаки высокой дисперсии:\n",
    "- Высокая точность на тренировочных данных, но низкая точность на тестовых.\n",
    "- Модель слишком сложна и подстраивается под шум в данных.\n",
    "- Предсказания модели сильно варьируются в зависимости от тренировочного набора\n",
    "\n",
    "$\\boxed{Variance = E[(f(x)−E[f(x)])^2]}$\n",
    "\n",
    "`Идеальная модель` находится в точке баланса между смещением и дисперсией, минимизируя общую ошибку:\n",
    "\n",
    "$\\boxed{Error = Bias^2 + Variance + шум}$\n",
    "\n",
    "`Методы снижения смещения и дисперсии`:\n",
    "\n",
    "|Смещение (Bias) |\tДисперсия (Variance)\n",
    "|-|-|\n",
    "|Увеличение сложности модели|\tУменьшение сложности модели\n",
    "|Добавление новых признаков|\tИспользование регуляризации (L1, L2)\n",
    "|Увеличение количества итераций обучения|\tУвеличение тренировочных данных\n",
    "|Использование нелинейных моделей|\tСнижение глубины дерева решений"
   ]
  },
  {
   "cell_type": "markdown",
   "metadata": {},
   "source": [
    "___\n",
    "6. <a id=6>Центральная предельная теорема (ЦПТ) и ее применение в Data Science\n",
    "</a>"
   ]
  },
  {
   "cell_type": "markdown",
   "metadata": {},
   "source": [
    "`Центральная предельная теорема` (ЦПТ): распределение выборочного среднего ($\\={X}$) будет приближаться к нормальному распределению, если:\n",
    "\n",
    "- Объем выборки достаточно велик (𝑛 → ∞).\n",
    "- Выборки независимы и одинаково распределены (i.i.d. — independently and identically distributed).\n",
    "\n",
    "Это верно даже в случае, если исходные данные (генеральная совокупность) не распределены нормально.\n",
    "\n",
    "`Применения ЦПТ`:\n",
    "- Оценка среднего и стандартного отклонения в `генеральной совокупности` на основе выборки\n",
    "- Используя нормальное распределение выборочного среднего, можно построить `доверительный интервал` для среднего значения\n",
    "- `Z-тесты` и `t-тесты` основаны на предположении нормального распределения выборочных средних\n",
    "- `Генерация` выборочных данных для симуляций или тестирования моделей\n",
    "\n",
    "`Ограничения ЦПТ`:\n",
    "- Если объем выборки мал ( 𝑛 < 30), ЦПТ может быть неприменима.\n",
    "- Если данные коррелированы (например, временные ряды), ЦПТ может не работать корректно\n",
    "- Наличие выбросов в данных может повлиять на выборочное среднее и нарушить условия теоремы."
   ]
  },
  {
   "cell_type": "code",
   "execution_count": 13,
   "metadata": {},
   "outputs": [
    {
     "data": {
      "image/png": "[encoded data removed]",
      "text/plain": [
       "<Figure size 640x480 with 1 Axes>"
      ]
     },
     "metadata": {},
     "output_type": "display_data"
    }
   ],
   "source": [
    "import numpy as np\n",
    "import matplotlib.pyplot as plt\n",
    "\n",
    "# Сгенерируем данные: распределение не нормальное\n",
    "data = np.random.exponential(scale=200, size=1000)\n",
    "\n",
    "# Подсчитаем выборочные средние для разных объемов выборок\n",
    "sample_means = [np.mean(np.random.choice(data, size=30)) for _ in range(1000)]\n",
    "\n",
    "# Визуализация\n",
    "plt.hist(data, bins=30, density=True, alpha=0.7, label='Генеральная совокупность')\n",
    "plt.hist(sample_means, bins=30, density=True, alpha=0.5, label='Выборочные средние')\n",
    "plt.title('Распределение выборочных средних (ЦПТ)')\n",
    "plt.xlabel('Среднее значение')\n",
    "plt.ylabel('Частота')\n",
    "plt.legend()\n",
    "plt.show()\n"
   ]
  }
 ],
 "metadata": {
  "kernelspec": {
   "display_name": "Python 3",
   "language": "python",
   "name": "python3"
  },
  "language_info": {
   "codemirror_mode": {
    "name": "ipython",
    "version": 3
   },
   "file_extension": ".py",
   "mimetype": "text/x-python",
   "name": "python",
   "nbconvert_exporter": "python",
   "pygments_lexer": "ipython3",
   "version": "3.12.3"
  }
 },
 "nbformat": 4,
 "nbformat_minor": 2
}
